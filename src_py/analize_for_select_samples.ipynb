{
 "cells": [
  {
   "cell_type": "code",
   "execution_count": 17,
   "metadata": {},
   "outputs": [],
   "source": [
    "import polars as pl\n",
    "import seaborn as sns\n",
    "\n",
    "sns.set_theme(style=\"whitegrid\", palette=\"gray\", font_scale=1.4)"
   ]
  },
  {
   "cell_type": "code",
   "execution_count": 18,
   "metadata": {},
   "outputs": [
    {
     "data": {
      "text/html": [
       "<div><style>\n",
       ".dataframe > thead > tr,\n",
       ".dataframe > tbody > tr {\n",
       "  text-align: right;\n",
       "  white-space: pre-wrap;\n",
       "}\n",
       "</style>\n",
       "<small>shape: (10, 4)</small><table border=\"1\" class=\"dataframe\"><thead><tr><th>model_id</th><th>model_name</th><th>kind</th><th>len</th></tr><tr><td>i64</td><td>str</td><td>str</td><td>u32</td></tr></thead><tbody><tr><td>-1</td><td>&quot;dummy&quot;</td><td>&quot;dummy&quot;</td><td>3</td></tr><tr><td>0</td><td>&quot;20240621_134621&quot;</td><td>&quot;abs&quot;</td><td>212</td></tr><tr><td>1</td><td>&quot;20240621_134621&quot;</td><td>&quot;gt&quot;</td><td>212</td></tr><tr><td>2</td><td>&quot;20240621_134621&quot;</td><td>&quot;pred&quot;</td><td>212</td></tr><tr><td>3</td><td>&quot;20240621_155144&quot;</td><td>&quot;pred&quot;</td><td>212</td></tr><tr><td>4</td><td>&quot;20240621_202419&quot;</td><td>&quot;pred&quot;</td><td>212</td></tr><tr><td>5</td><td>&quot;20240622_003027&quot;</td><td>&quot;pred&quot;</td><td>212</td></tr><tr><td>6</td><td>&quot;20240622_103111&quot;</td><td>&quot;pred&quot;</td><td>212</td></tr><tr><td>7</td><td>&quot;20240622_161416&quot;</td><td>&quot;pred&quot;</td><td>212</td></tr><tr><td>8</td><td>&quot;20240623_001016&quot;</td><td>&quot;pred&quot;</td><td>212</td></tr></tbody></table></div>"
      ],
      "text/plain": [
       "shape: (10, 4)\n",
       "┌──────────┬─────────────────┬───────┬─────┐\n",
       "│ model_id ┆ model_name      ┆ kind  ┆ len │\n",
       "│ ---      ┆ ---             ┆ ---   ┆ --- │\n",
       "│ i64      ┆ str             ┆ str   ┆ u32 │\n",
       "╞══════════╪═════════════════╪═══════╪═════╡\n",
       "│ -1       ┆ dummy           ┆ dummy ┆ 3   │\n",
       "│ 0        ┆ 20240621_134621 ┆ abs   ┆ 212 │\n",
       "│ 1        ┆ 20240621_134621 ┆ gt    ┆ 212 │\n",
       "│ 2        ┆ 20240621_134621 ┆ pred  ┆ 212 │\n",
       "│ 3        ┆ 20240621_155144 ┆ pred  ┆ 212 │\n",
       "│ 4        ┆ 20240621_202419 ┆ pred  ┆ 212 │\n",
       "│ 5        ┆ 20240622_003027 ┆ pred  ┆ 212 │\n",
       "│ 6        ┆ 20240622_103111 ┆ pred  ┆ 212 │\n",
       "│ 7        ┆ 20240622_161416 ┆ pred  ┆ 212 │\n",
       "│ 8        ┆ 20240623_001016 ┆ pred  ┆ 212 │\n",
       "└──────────┴─────────────────┴───────┴─────┘"
      ]
     },
     "execution_count": 18,
     "metadata": {},
     "output_type": "execute_result"
    }
   ],
   "source": [
    "df_sample = pl.read_csv(\"./result/SampleMetaData_rows.csv\")\n",
    "df_sample = df_sample.rename({\"id\": \"sample_meta_data_id\"})\n",
    "df_sample.group_by([\"model_id\", \"model_name\", \"kind\"]).len().sort([\"model_id\"])"
   ]
  },
  {
   "cell_type": "code",
   "execution_count": 19,
   "metadata": {},
   "outputs": [],
   "source": [
    "df_answer = pl.read_csv(\"./result/Answers_rows.csv\")\n",
    "df_sample = pl.read_csv(\"./result/SampleMetaData_rows.csv\")\n",
    "df_sample = df_sample.rename({\"id\": \"sample_meta_data_id\"})\n",
    "df_respondent = pl.read_csv(\"./result/Respondents_rows.csv\")\n",
    "df_respondent = df_respondent.rename({\"id\": \"respondent_id\"})\n",
    "\n",
    "df_respondent = df_respondent.with_columns(\n",
    "    pl.col(\"sex\").replace({\"男性\": \"M\", \"女性\": \"F\", \"無回答\": \"N\"}),\n",
    "    pl.col(\"audio_device\").replace({\"イヤホン\": \"Earphone\", \"ヘッドホン\": \"Headphone\"}),\n",
    ")\n",
    "\n",
    "df_sample = df_sample.with_columns(\n",
    "    pl.col(\"model_id\").replace(\n",
    "        {\n",
    "            0: \"(4)\",  # 分析合成\n",
    "            1: \"(5)\",  # 原音声\n",
    "            2: \"(1)\",  # ベースライン\n",
    "            3: \"(2-a)\",  # HuBERTなし メル・連続\n",
    "            4: \"(2-b)\",  # HuBERTなし メル・離散\n",
    "            5: \"(2-c)\",  # HuBERTなし メル・連続・離散\n",
    "            6: \"(3-a)\",  # HuBERTあり メル・連続\n",
    "            7: \"(3-c)\",  # HuBERTあり メル・連続・離散\n",
    "            8: \"(3-b)\",  # HuBERTあり メル・離散\n",
    "        }\n",
    "    )\n",
    ")\n",
    "\n",
    "df_answer = df_answer.join(\n",
    "    other=df_sample, on=[\"sample_meta_data_id\"], how=\"left\", coalesce=True\n",
    ")\n",
    "df_answer = df_answer.join(\n",
    "    other=df_respondent,\n",
    "    on=\"respondent_id\",\n",
    "    how=\"left\",\n",
    "    coalesce=True,\n",
    ")\n",
    "df_answer = df_answer.filter(\n",
    "    pl.col(\"is_dummy\").not_()\n",
    "    & pl.col(\"is_invalid\").not_()\n",
    "    & (pl.col(\"sample_page_name\") == \"eval_1\")\n",
    ")"
   ]
  },
  {
   "cell_type": "code",
   "execution_count": null,
   "metadata": {},
   "outputs": [],
   "source": []
  },
  {
   "cell_type": "code",
   "execution_count": 20,
   "metadata": {},
   "outputs": [
    {
     "data": {
      "text/html": [
       "<div><style>\n",
       ".dataframe > thead > tr,\n",
       ".dataframe > tbody > tr {\n",
       "  text-align: right;\n",
       "  white-space: pre-wrap;\n",
       "}\n",
       "</style>\n",
       "<small>shape: (108, 9)</small><table border=\"1\" class=\"dataframe\"><thead><tr><th>speaker_name</th><th>sample_name</th><th>model_id</th><th>nat_mean</th><th>int_mean</th><th>model_id_int_max</th><th>model_id_nat_max</th><th>model_name</th><th>kind</th></tr><tr><td>str</td><td>str</td><td>str</td><td>f64</td><td>f64</td><td>str</td><td>str</td><td>str</td><td>str</td></tr></thead><tbody><tr><td>&quot;F01_kablab&quot;</td><td>&quot;ATR503_j36&quot;</td><td>&quot;(1)&quot;</td><td>2.333333</td><td>2.0</td><td>&quot;(2-b)&quot;</td><td>&quot;(2-b)&quot;</td><td>&quot;20240621_134621&quot;</td><td>&quot;pred&quot;</td></tr><tr><td>&quot;F01_kablab&quot;</td><td>&quot;ATR503_j36&quot;</td><td>&quot;(2-a)&quot;</td><td>1.333333</td><td>3.0</td><td>&quot;(2-b)&quot;</td><td>&quot;(2-b)&quot;</td><td>&quot;20240621_155144&quot;</td><td>&quot;pred&quot;</td></tr><tr><td>&quot;F01_kablab&quot;</td><td>&quot;ATR503_j36&quot;</td><td>&quot;(2-b)&quot;</td><td>3.333333</td><td>3.666667</td><td>&quot;(2-b)&quot;</td><td>&quot;(2-b)&quot;</td><td>&quot;20240621_202419&quot;</td><td>&quot;pred&quot;</td></tr><tr><td>&quot;F01_kablab&quot;</td><td>&quot;ATR503_j36&quot;</td><td>&quot;(2-c)&quot;</td><td>2.333333</td><td>2.0</td><td>&quot;(2-b)&quot;</td><td>&quot;(2-b)&quot;</td><td>&quot;20240622_003027&quot;</td><td>&quot;pred&quot;</td></tr><tr><td>&quot;F01_kablab&quot;</td><td>&quot;ATR503_j36&quot;</td><td>&quot;(3-a)&quot;</td><td>1.666667</td><td>2.333333</td><td>&quot;(2-b)&quot;</td><td>&quot;(2-b)&quot;</td><td>&quot;20240622_103111&quot;</td><td>&quot;pred&quot;</td></tr><tr><td>&hellip;</td><td>&hellip;</td><td>&hellip;</td><td>&hellip;</td><td>&hellip;</td><td>&hellip;</td><td>&hellip;</td><td>&hellip;</td><td>&hellip;</td></tr><tr><td>&quot;M04_kablab&quot;</td><td>&quot;ATR503_j15&quot;</td><td>&quot;(3-a)&quot;</td><td>1.666667</td><td>1.666667</td><td>&quot;(2-b)&quot;</td><td>&quot;(2-b)&quot;</td><td>&quot;20240622_103111&quot;</td><td>&quot;pred&quot;</td></tr><tr><td>&quot;M04_kablab&quot;</td><td>&quot;ATR503_j15&quot;</td><td>&quot;(3-b)&quot;</td><td>1.666667</td><td>2.333333</td><td>&quot;(2-b)&quot;</td><td>&quot;(2-b)&quot;</td><td>&quot;20240623_001016&quot;</td><td>&quot;pred&quot;</td></tr><tr><td>&quot;M04_kablab&quot;</td><td>&quot;ATR503_j15&quot;</td><td>&quot;(3-c)&quot;</td><td>2.333333</td><td>2.333333</td><td>&quot;(2-b)&quot;</td><td>&quot;(2-b)&quot;</td><td>&quot;20240622_161416&quot;</td><td>&quot;pred&quot;</td></tr><tr><td>&quot;M04_kablab&quot;</td><td>&quot;ATR503_j15&quot;</td><td>&quot;(4)&quot;</td><td>3.333333</td><td>4.0</td><td>&quot;(2-b)&quot;</td><td>&quot;(2-b)&quot;</td><td>&quot;20240621_134621&quot;</td><td>&quot;abs&quot;</td></tr><tr><td>&quot;M04_kablab&quot;</td><td>&quot;ATR503_j15&quot;</td><td>&quot;(5)&quot;</td><td>5.0</td><td>5.0</td><td>&quot;(2-b)&quot;</td><td>&quot;(2-b)&quot;</td><td>&quot;20240621_134621&quot;</td><td>&quot;gt&quot;</td></tr></tbody></table></div>"
      ],
      "text/plain": [
       "shape: (108, 9)\n",
       "┌─────────────┬────────────┬──────────┬──────────┬───┬────────────┬────────────┬────────────┬──────┐\n",
       "│ speaker_nam ┆ sample_nam ┆ model_id ┆ nat_mean ┆ … ┆ model_id_i ┆ model_id_n ┆ model_name ┆ kind │\n",
       "│ e           ┆ e          ┆ ---      ┆ ---      ┆   ┆ nt_max     ┆ at_max     ┆ ---        ┆ ---  │\n",
       "│ ---         ┆ ---        ┆ str      ┆ f64      ┆   ┆ ---        ┆ ---        ┆ str        ┆ str  │\n",
       "│ str         ┆ str        ┆          ┆          ┆   ┆ str        ┆ str        ┆            ┆      │\n",
       "╞═════════════╪════════════╪══════════╪══════════╪═══╪════════════╪════════════╪════════════╪══════╡\n",
       "│ F01_kablab  ┆ ATR503_j36 ┆ (1)      ┆ 2.333333 ┆ … ┆ (2-b)      ┆ (2-b)      ┆ 20240621_1 ┆ pred │\n",
       "│             ┆            ┆          ┆          ┆   ┆            ┆            ┆ 34621      ┆      │\n",
       "│ F01_kablab  ┆ ATR503_j36 ┆ (2-a)    ┆ 1.333333 ┆ … ┆ (2-b)      ┆ (2-b)      ┆ 20240621_1 ┆ pred │\n",
       "│             ┆            ┆          ┆          ┆   ┆            ┆            ┆ 55144      ┆      │\n",
       "│ F01_kablab  ┆ ATR503_j36 ┆ (2-b)    ┆ 3.333333 ┆ … ┆ (2-b)      ┆ (2-b)      ┆ 20240621_2 ┆ pred │\n",
       "│             ┆            ┆          ┆          ┆   ┆            ┆            ┆ 02419      ┆      │\n",
       "│ F01_kablab  ┆ ATR503_j36 ┆ (2-c)    ┆ 2.333333 ┆ … ┆ (2-b)      ┆ (2-b)      ┆ 20240622_0 ┆ pred │\n",
       "│             ┆            ┆          ┆          ┆   ┆            ┆            ┆ 03027      ┆      │\n",
       "│ F01_kablab  ┆ ATR503_j36 ┆ (3-a)    ┆ 1.666667 ┆ … ┆ (2-b)      ┆ (2-b)      ┆ 20240622_1 ┆ pred │\n",
       "│             ┆            ┆          ┆          ┆   ┆            ┆            ┆ 03111      ┆      │\n",
       "│ …           ┆ …          ┆ …        ┆ …        ┆ … ┆ …          ┆ …          ┆ …          ┆ …    │\n",
       "│ M04_kablab  ┆ ATR503_j15 ┆ (3-a)    ┆ 1.666667 ┆ … ┆ (2-b)      ┆ (2-b)      ┆ 20240622_1 ┆ pred │\n",
       "│             ┆            ┆          ┆          ┆   ┆            ┆            ┆ 03111      ┆      │\n",
       "│ M04_kablab  ┆ ATR503_j15 ┆ (3-b)    ┆ 1.666667 ┆ … ┆ (2-b)      ┆ (2-b)      ┆ 20240623_0 ┆ pred │\n",
       "│             ┆            ┆          ┆          ┆   ┆            ┆            ┆ 01016      ┆      │\n",
       "│ M04_kablab  ┆ ATR503_j15 ┆ (3-c)    ┆ 2.333333 ┆ … ┆ (2-b)      ┆ (2-b)      ┆ 20240622_1 ┆ pred │\n",
       "│             ┆            ┆          ┆          ┆   ┆            ┆            ┆ 61416      ┆      │\n",
       "│ M04_kablab  ┆ ATR503_j15 ┆ (4)      ┆ 3.333333 ┆ … ┆ (2-b)      ┆ (2-b)      ┆ 20240621_1 ┆ abs  │\n",
       "│             ┆            ┆          ┆          ┆   ┆            ┆            ┆ 34621      ┆      │\n",
       "│ M04_kablab  ┆ ATR503_j15 ┆ (5)      ┆ 5.0      ┆ … ┆ (2-b)      ┆ (2-b)      ┆ 20240621_1 ┆ gt   │\n",
       "│             ┆            ┆          ┆          ┆   ┆            ┆            ┆ 34621      ┆      │\n",
       "└─────────────┴────────────┴──────────┴──────────┴───┴────────────┴────────────┴────────────┴──────┘"
      ]
     },
     "execution_count": 20,
     "metadata": {},
     "output_type": "execute_result"
    }
   ],
   "source": [
    "df_agg = (\n",
    "    df_answer.group_by([\"speaker_name\", \"sample_name\", \"model_id\"])\n",
    "    .agg(\n",
    "        pl.col(\"naturalness_id\").mean().alias(\"nat_mean\"),\n",
    "        pl.col(\"intelligibility_id\").mean().alias(\"int_mean\"),\n",
    "    )\n",
    "    .sort(by=[\"speaker_name\", \"sample_name\", \"model_id\"])\n",
    ")\n",
    "df_model_id_int_max = (\n",
    "    df_agg.filter(pl.col(\"model_id\").is_in([\"(4)\", \"(5)\"]).not_())\n",
    "    .sort([\"speaker_name\", \"sample_name\", \"int_mean\"], descending=False)\n",
    "    .group_by([\"speaker_name\", \"sample_name\"])\n",
    "    .last()\n",
    "    .select([\"speaker_name\", \"sample_name\", \"model_id\"])\n",
    "    .rename({\"model_id\": \"model_id_int_max\"})\n",
    ")\n",
    "df_model_id_nat_max = (\n",
    "    df_agg.filter(pl.col(\"model_id\").is_in([\"(4)\", \"(5)\"]).not_())\n",
    "    .sort([\"speaker_name\", \"sample_name\", \"nat_mean\"], descending=False)\n",
    "    .group_by([\"speaker_name\", \"sample_name\"])\n",
    "    .last()\n",
    "    .select([\"speaker_name\", \"sample_name\", \"model_id\"])\n",
    "    .rename({\"model_id\": \"model_id_nat_max\"})\n",
    ")\n",
    "df_model_id_max = df_model_id_int_max.join(\n",
    "    df_model_id_nat_max, on=[\"speaker_name\", \"sample_name\"], how=\"inner\"\n",
    ")\n",
    "df_agg = df_agg.join(\n",
    "    other=df_model_id_max,\n",
    "    on=[\"speaker_name\", \"sample_name\"],\n",
    "    how=\"left\",\n",
    "    coalesce=True,\n",
    ")\n",
    "df_agg = df_agg.filter(\n",
    "    (pl.col(\"model_id_int_max\") == \"(2-b)\") & (pl.col(\"model_id_nat_max\") == \"(2-b)\")\n",
    ")\n",
    "df_agg = df_agg.join(\n",
    "    df_sample.select([\"model_id\", \"model_name\", \"kind\"]).unique(),\n",
    "    on=[\"model_id\"],\n",
    "    how=\"left\",\n",
    "    coalesce=True,\n",
    ")\n",
    "df_agg = df_agg.sort(\n",
    "    [\n",
    "        \"speaker_name\",\n",
    "        \"sample_name\",\n",
    "        \"model_id\",\n",
    "    ]\n",
    ")\n",
    "df_agg.write_csv(\"./df_agg.csv\")\n",
    "df_agg"
   ]
  }
 ],
 "metadata": {
  "kernelspec": {
   "display_name": ".venv",
   "language": "python",
   "name": "python3"
  },
  "language_info": {
   "codemirror_mode": {
    "name": "ipython",
    "version": 3
   },
   "file_extension": ".py",
   "mimetype": "text/x-python",
   "name": "python",
   "nbconvert_exporter": "python",
   "pygments_lexer": "ipython3",
   "version": "3.10.4"
  }
 },
 "nbformat": 4,
 "nbformat_minor": 2
}
